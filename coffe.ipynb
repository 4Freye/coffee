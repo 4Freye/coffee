{
 "cells": [
  {
   "cell_type": "markdown",
   "metadata": {},
   "source": [
    "Import library"
   ]
  },
  {
   "cell_type": "code",
   "execution_count": 9,
   "metadata": {},
   "outputs": [],
   "source": [
    "from CoffeeLibrary.PreProcess import *\n",
    "from CoffeeLibrary.FeatureCreate import *\n",
    "from CoffeeLibrary.TrainTest import *\n",
    "from sklearn.metrics import mean_squared_error"
   ]
  },
  {
   "cell_type": "markdown",
   "metadata": {},
   "source": [
    "Load and process data"
   ]
  },
  {
   "cell_type": "code",
   "execution_count": 10,
   "metadata": {},
   "outputs": [
    {
     "name": "stderr",
     "output_type": "stream",
     "text": [
      "/Users/ericfrey/opt/anaconda3/envs/coffee/lib/python3.10/site-packages/dask/dataframe/core.py:6751: FutureWarning: Meta is not valid, `map_partitions` and `map_overlap` expects output to be a pandas object. Try passing a pandas object as meta or a dict or tuple representing the (name, dtype) of the columns. In the future the meta you passed will not work.\n",
      "  warnings.warn(\n"
     ]
    },
    {
     "data": {
      "application/vnd.jupyter.widget-view+json": {
       "model_id": "f58c8a90be644b4cb00edbfe763d5989",
       "version_major": 2,
       "version_minor": 0
      },
      "text/plain": [
       "  0%|          | 0/8 [00:00<?, ?it/s]"
      ]
     },
     "metadata": {},
     "output_type": "display_data"
    },
    {
     "name": "stdout",
     "output_type": "stream",
     "text": [
      "Country Cleaning Report:\n",
      "\t2022 values cleaned (88.61%)\n",
      "\t185 values unable to be parsed (8.11%), set to NaN\n",
      "Result contains 2097 (91.89%) values in the correct format and 185 null values (8.11%)\n"
     ]
    },
    {
     "name": "stderr",
     "output_type": "stream",
     "text": [
      "/Users/ericfrey/Documents/computing/coffee/CoffeeLibrary/PreProcess.py:38: FutureWarning: In a future version of pandas all arguments of StringMethods.split except for the argument 'pat' will be keyword-only.\n",
      "  self.df[['amount', 'units']] = self.df['est_price'].apply(lambda row: str(row).split('/')[-1].replace(',','')).str.split(' ', 1, expand = True)\n"
     ]
    }
   ],
   "source": [
    "path = 'coffee_df_with_type_and_region.csv'\n",
    "\n",
    "df = pd.read_csv(path, sep = ',', thousands=',')\n",
    "\n",
    "prep = PreProcess(df)\n",
    "\n",
    "prep.clean_origin('origin')\n",
    "prep.clean_location('location')\n",
    "prep.standardize_price('est_price')\n",
    "prep.standardize_agtron('agtron')\n",
    "prep.drop_cols(['slug', 'all_text', 'with_milk', 'name', 'review_date'])\n",
    "prep.drop_nas()\n",
    "\n",
    "df = prep.df "
   ]
  },
  {
   "cell_type": "markdown",
   "metadata": {},
   "source": [
    "Create Features"
   ]
  },
  {
   "cell_type": "code",
   "execution_count": 3,
   "metadata": {},
   "outputs": [],
   "source": [
    "prep.df = pd.concat([prep.df, FeatureCreate(prep.df, 'desc_1').top_n_unigram(20)], axis=1)\n",
    "prep.df = pd.concat([prep.df, FeatureCreate(prep.df, 'desc_2').top_n_unigram(20)], axis=1)\n",
    "prep.df = pd.concat([prep.df, FeatureCreate(prep.df, 'desc_3').top_n_unigram(20)], axis=1)\n",
    "prep.df = pd.concat([prep.df, FeatureCreate(prep.df, 'desc_1').top_n_bigram(20)], axis=1)\n",
    "prep.df = pd.concat([prep.df, FeatureCreate(prep.df, 'desc_3').top_n_bigram(20)], axis=1)\n",
    "prep.df.drop(['desc_1','desc_2','desc_3'], axis=1, inplace=True)\n",
    "\n",
    "df = pd.get_dummies(prep.df, columns=['origin','location','roast','roaster'])"
   ]
  },
  {
   "cell_type": "markdown",
   "metadata": {},
   "source": [
    "Split Dataframe"
   ]
  },
  {
   "cell_type": "code",
   "execution_count": 4,
   "metadata": {},
   "outputs": [],
   "source": [
    "features = df.columns[df.columns != 'rating']\n",
    "X_train, X_test, y_train, y_test = split(df, features)"
   ]
  },
  {
   "cell_type": "markdown",
   "metadata": {},
   "source": [
    "Train Model and Predict"
   ]
  },
  {
   "cell_type": "code",
   "execution_count": 5,
   "metadata": {},
   "outputs": [
    {
     "name": "stderr",
     "output_type": "stream",
     "text": [
      "/Users/ericfrey/Documents/computing/coffee/CoffeeLibrary/TrainTest.py:30: DataConversionWarning: A column-vector y was passed when a 1d array was expected. Please change the shape of y to (n_samples,), for example using ravel().\n",
      "  regressor.fit(X, y)\n"
     ]
    }
   ],
   "source": [
    "regressor = train_model(X_train, y_train, features)\n",
    "results = predict(X_test, y_test, regressor, features)"
   ]
  },
  {
   "attachments": {},
   "cell_type": "markdown",
   "metadata": {},
   "source": [
    "Compute mean squared error"
   ]
  },
  {
   "cell_type": "code",
   "execution_count": 6,
   "metadata": {},
   "outputs": [
    {
     "data": {
      "text/plain": [
       "0.037869980119284295"
      ]
     },
     "execution_count": 6,
     "metadata": {},
     "output_type": "execute_result"
    }
   ],
   "source": [
    "mean_squared_error(results.Actual, results.Predicted)"
   ]
  }
 ],
 "metadata": {
  "kernelspec": {
   "display_name": "Python 3",
   "language": "python",
   "name": "python3"
  },
  "language_info": {
   "codemirror_mode": {
    "name": "ipython",
    "version": 3
   },
   "file_extension": ".py",
   "mimetype": "text/x-python",
   "name": "python",
   "nbconvert_exporter": "python",
   "pygments_lexer": "ipython3",
   "version": "3.11.0"
  },
  "vscode": {
   "interpreter": {
    "hash": "9ec6c9f00e031b5a1573a8a0225c185aed910f42501a08705023165d73967058"
   }
  }
 },
 "nbformat": 4,
 "nbformat_minor": 2
}
